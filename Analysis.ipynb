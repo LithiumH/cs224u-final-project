{
 "cells": [
  {
   "cell_type": "markdown",
   "metadata": {},
   "source": [
    "# Analysis\n",
    "\n",
    "This notebook analyzes predicted results from the VM and attempt to do some other shit"
   ]
  },
  {
   "cell_type": "code",
   "execution_count": 1,
   "metadata": {},
   "outputs": [],
   "source": [
    "import os\n",
    "import pickle\n",
    "from pytorch_pretrained_bert import BertTokenizer\n",
    "import numpy as np\n",
    "from rouge import Rouge \n",
    "import util\n",
    "from tqdm import tqdm\n",
    "import matplotlib.pyplot as plt\n",
    "from multiprocessing import Pool"
   ]
  },
  {
   "cell_type": "code",
   "execution_count": 2,
   "metadata": {},
   "outputs": [],
   "source": [
    "machine = 'Google'"
   ]
  },
  {
   "cell_type": "code",
   "execution_count": 3,
   "metadata": {},
   "outputs": [],
   "source": [
    "with open(os.path.join('saved_models', machine, 'test', 'default-01-dev', 'X_batch.pk'), 'rb') as f:\n",
    "    X_batch = pickle.load(f)\n",
    "with open(os.path.join('saved_models', machine, 'test', 'default-01-dev', 'logits_batch.pk'), 'rb') as f:\n",
    "    logits_batch = pickle.load(f)\n",
    "with open(os.path.join('saved_models', machine, 'test', 'default-01-dev', 'gold_sums.pk'), 'rb') as f:\n",
    "    gold_sums = pickle.load(f)\n",
    "PROCESSED_DATA = os.path.join('data', 'data.pk')\n",
    "with open(PROCESSED_DATA, 'rb') as f:\n",
    "    data = pickle.load(f)"
   ]
  },
  {
   "cell_type": "markdown",
   "metadata": {},
   "source": [
    "## LEAD-3 Basline\n",
    "\n",
    "Here, we recover the source document by untokenizing from Bert and select the top 3 sentences as our \"summary\" and observe the results"
   ]
  },
  {
   "cell_type": "code",
   "execution_count": 4,
   "metadata": {},
   "outputs": [],
   "source": [
    "def to_normal_sent(lst_of_words):\n",
    "    return util.remove_bert_tokens(' '.join(lst_of_words))"
   ]
  },
  {
   "cell_type": "code",
   "execution_count": 5,
   "metadata": {},
   "outputs": [],
   "source": [
    "tokenizer = BertTokenizer.from_pretrained('bert-base-uncased')\n",
    "rouge = Rouge()"
   ]
  },
  {
   "cell_type": "code",
   "execution_count": 7,
   "metadata": {},
   "outputs": [],
   "source": [
    "X = data['test']['X']\n",
    "gold_sums = data['test']['gold']\n",
    "recovered_X = [tokenizer.convert_ids_to_tokens(x) for x in X]"
   ]
  },
  {
   "cell_type": "code",
   "execution_count": 11,
   "metadata": {},
   "outputs": [],
   "source": [
    "def lead_k(x, k=3, thresh=10):\n",
    "    start, look, i = 0, 0, 0\n",
    "    while i < k:\n",
    "        if '[SEP]' not in x[look:]:\n",
    "            start, look = 0, 100\n",
    "            break;\n",
    "        look = x.index('[SEP]', look)\n",
    "        look += 1\n",
    "        if look - start > thresh or i > 0:\n",
    "            i += 1\n",
    "        else:\n",
    "            start = look\n",
    "    look = min(look, 100)\n",
    "    return util.remove_bert_tokens(' '.join(x[start:look]))"
   ]
  },
  {
   "cell_type": "code",
   "execution_count": 12,
   "metadata": {},
   "outputs": [],
   "source": [
    "lead_3_sums = [lead_k(x, thresh=10) for x in recovered_X]"
   ]
  },
  {
   "cell_type": "code",
   "execution_count": 13,
   "metadata": {},
   "outputs": [
    {
     "name": "stdout",
     "output_type": "stream",
     "text": [
      "lead-3 summaries avg length: 386.4782413638403\n",
      "gold summaries avg length: 296.30468499647503\n"
     ]
    }
   ],
   "source": [
    "print('lead-3 summaries avg length: {}'.format(np.mean([len(s) for s in lead_3_sums])))\n",
    "print('gold summaries avg length: {}'.format(np.mean([len(sent) for sent in gold_sums])))"
   ]
  },
  {
   "cell_type": "code",
   "execution_count": 14,
   "metadata": {},
   "outputs": [
    {
     "data": {
      "text/plain": [
       "{'rouge-1': {'f': 0.3821599974324617,\n",
       "  'p': 0.34986469518907654,\n",
       "  'r': 0.44766975429590955},\n",
       " 'rouge-2': {'f': 0.15456418398646685,\n",
       "  'p': 0.138567864621563,\n",
       "  'r': 0.19059111347871827},\n",
       " 'rouge-l': {'f': 0.3238989896185224,\n",
       "  'p': 0.3155679251844099,\n",
       "  'r': 0.40387085568306264}}"
      ]
     },
     "execution_count": 14,
     "metadata": {},
     "output_type": "execute_result"
    }
   ],
   "source": [
    "valid_ids = [i for i in range(len(lead_3_sums)) \\\n",
    "        if len(lead_3_sums[i]) > 0 and lead_3_sums[i][0] != '.']\n",
    "lead_3_sums_filtered = [lead_3_sums[i] for i in valid_ids]\n",
    "gold_sums_filtered = [gold_sums[i] for i in valid_ids]\n",
    "rouge.get_scores(lead_3_sums_filtered, gold_sums_filtered, avg=True)"
   ]
  },
  {
   "cell_type": "markdown",
   "metadata": {},
   "source": [
    "## Token tagging\n",
    "\n",
    "Here we explore some token taggnig ideas."
   ]
  },
  {
   "cell_type": "code",
   "execution_count": 21,
   "metadata": {},
   "outputs": [],
   "source": [
    "def range_dist(tup1, tup2):\n",
    "    \"\"\"\n",
    "    This function calculates the distance between 2 ranges.\n",
    "    \"\"\"\n",
    "    start1, end1 = min(tup1), max(tup1)\n",
    "    start2, end2 = min(tup2), max(tup2)\n",
    "    if start1 < start2 < end1 or start1 < end2 < end1: # overlap\n",
    "        return 0\n",
    "    return min(abs(end1 - start2), abs(end2 - start1))\n",
    "\n",
    "def tag(doc, tgt):\n",
    "    \"\"\"\n",
    "    doc: a list of src tokens\n",
    "    tgt: a list of tgt tokens that we will look for in the doc\n",
    "    \n",
    "    returns:\n",
    "    decode_label: a list of size tgt (or less) denoting the positions of the tokens at each summ step\n",
    "    \"\"\"\n",
    "    if len(tgt) == 0:\n",
    "        print('zero sized tgt')\n",
    "        return None\n",
    "\n",
    "    decode_label = []\n",
    "    l, r, last_range = 0, 0, (0, 0) # last step is the index into the src where we chose last\n",
    "    while r < len(tgt):\n",
    "        old_idxs = []\n",
    "        idxs = [(i,i+1) for i, token in enumerate(doc) if token == tgt[r]]\n",
    "        while len(idxs) > 0: # found a match\n",
    "            r += 1\n",
    "            old_idxs, idxs = idxs, []\n",
    "            for start, end in old_idxs:\n",
    "                if end < len(doc) and r < len(tgt) and doc[end] == tgt[r]:\n",
    "                    idxs.append((start, end + 1))\n",
    "        idx_to_look = old_idxs if len(idxs) == 0 else idxs\n",
    "        if len(idx_to_look) == 0:\n",
    "            r += 1\n",
    "        else:\n",
    "            best_i = min(range(len(idx_to_look)), key=lambda i: range_dist(last_range, idx_to_look[i]))\n",
    "            last_range = idx_to_look[best_i]\n",
    "            decode_label.extend(list(range(last_range[0], last_range[1])))\n",
    "    decode_label2 = []\n",
    "    l, r, last_range = 0, 0, (0, 0) # last step is the index into the src where we chose last\n",
    "    while r < len(tgt):\n",
    "        old_idxs = []\n",
    "        idxs = [(i,i+1) for i, token in enumerate(doc) if token == tgt[r]]\n",
    "        while len(idxs) > 0: # found a match\n",
    "            r += 1\n",
    "            old_idxs, idxs = idxs, []\n",
    "            for start, end in old_idxs:\n",
    "                if end < len(doc) and r < len(tgt) and doc[end] == tgt[r]:\n",
    "                    idxs.append((start, end + 1))\n",
    "        idx_to_look = old_idxs if len(idxs) == 0 else idxs\n",
    "        if len(idx_to_look) == 0:\n",
    "            r += 1\n",
    "        else:\n",
    "            best_i = 0\n",
    "            last_range = idx_to_look[best_i]\n",
    "            decode_label2.extend(list(range(last_range[0], last_range[1])))\n",
    "    return decode_label, decode_label2"
   ]
  },
  {
   "cell_type": "code",
   "execution_count": 242,
   "metadata": {},
   "outputs": [],
   "source": [
    "i = 3"
   ]
  },
  {
   "cell_type": "code",
   "execution_count": 243,
   "metadata": {},
   "outputs": [],
   "source": [
    "a, b = tag(recovered_X[i], gold_sums[i].split(' '))"
   ]
  },
  {
   "cell_type": "code",
   "execution_count": 244,
   "metadata": {},
   "outputs": [
    {
     "name": "stdout",
     "output_type": "stream",
     "text": [
      "56\t57\t58\t62\t67\t68\t69\t146\t47\t46\t39\t82\t80\t81\t108\t83\t84\t85\t87\t89\t90\t91\t298\t299\t462\t463\t21\t22\t476\t189\t190\t179\t152\t153\t154\t155\t157\t437\t438\t490\t224\t433\t424\n"
     ]
    }
   ],
   "source": [
    "print('\\t'.join([str(elem) for elem in a]))"
   ]
  },
  {
   "cell_type": "code",
   "execution_count": 245,
   "metadata": {},
   "outputs": [
    {
     "name": "stdout",
     "output_type": "stream",
     "text": [
      "56\t57\t58\t62\t67\t68\t69\t146\t47\t46\t39\t82\t80\t81\t108\t83\t84\t85\t9\t89\t90\t91\t298\t299\t18\t19\t21\t22\t476\t189\t190\t39\t152\t153\t154\t155\t71\t437\t438\t62\t167\t433\t39\n"
     ]
    }
   ],
   "source": [
    "print('\\t'.join([str(elem) for elem in b]))"
   ]
  },
  {
   "cell_type": "code",
   "execution_count": 249,
   "metadata": {},
   "outputs": [
    {
     "data": {
      "text/plain": [
       "\"canadian security forces have thwarted an al - qaeda - backed terrorist plot to derail a new york city - bound passenger train as it crossed the niagara river , just a few miles from niagara falls . the royal canadian mounted police yesterday arrested chiheb esseghaier , 30 , of montreal , and raed jaser , 35 , of toronto . authorities allege the pair took orders and received guidance from al - qaeda operatives in iran . officials reportedly watched the men for more than a year and say the plot never got past the planning stages . canadian counter - terrorism investigators say the public was never in danger , the the men would have carried out the attack if they had not been stopped . police were later seen raiding jaser ' s house in northern toronto , carrying away material which could be used as evidence in the suspects ' prosecution . scroll down for video . raid : police were pictured at a house in toronto yesterday in connection with a plot to blow up a train . operation : the alleged would - be terrorists were under surveillance from canadian police for over a year . evidence : offers were pictured carrying away material from the home in the north of the city . neither of the men are canadian . citizens , but security officials would not reveal where they were from . or why they were in the country . the alleged plot is not believed to have any link with last week ' s boston marathon bombings . the two men allegedly planned to derail an amtrak or canadian via train . as it crossed over the whirpool rapids bridge from canada into the . united states , according to reports . the 115 - year - old arch bridge spans the niagara river 225 feet above the water . the canadian broadcasting corporation said the operations was conducted . with the u . s . department of homeland security and the fbi . thwarted : the raid came in the wake of the arrest of two foreigners living in canada with alleged al qaeda links . link : the house belongs to raed jaser , 32 , one of the two men arrested on monday . carried away : some of the material removed from the home by police as part of their investigation . a source told reuters that the amtrak maple leaf line , which runs from toronto to new york city , was targeted . canadian officials declined to confirm which trains were in the crosshairs . the men allegedly watched trains and rail yards across the greater toronto area to prepare for their assault . ` today ' s arrests\""
      ]
     },
     "execution_count": 249,
     "metadata": {},
     "output_type": "execute_result"
    }
   ],
   "source": [
    "to_normal_sent(recovered_X[i])"
   ]
  },
  {
   "cell_type": "code",
   "execution_count": 250,
   "metadata": {},
   "outputs": [
    {
     "data": {
      "text/plain": [
       "\"chiheb esseghaier , 30 , and raed jaser , 35 , were arrested yesterday . suspected received orders and got guidance from al qaeda leader in iran . planned to target new york - bound trains in toronto . jaser ' s house in toronto raided by police and evidence removed .\""
      ]
     },
     "execution_count": 250,
     "metadata": {},
     "output_type": "execute_result"
    }
   ],
   "source": [
    "gold_sums[i]"
   ]
  },
  {
   "cell_type": "markdown",
   "metadata": {},
   "source": [
    "## Thresholds\n",
    "\n",
    "Here we change experiment with the thresholds and find a threshold that closely match the mean length of the gold summaries"
   ]
  },
  {
   "cell_type": "code",
   "execution_count": 4,
   "metadata": {},
   "outputs": [],
   "source": [
    "def to_normal_sent(lst_of_words):\n",
    "    return util.remove_bert_tokens(' '.join(lst_of_words))"
   ]
  },
  {
   "cell_type": "code",
   "execution_count": 5,
   "metadata": {},
   "outputs": [],
   "source": [
    "tokenizer = BertTokenizer.from_pretrained('bert-base-uncased')\n",
    "rouge = Rouge()"
   ]
  },
  {
   "cell_type": "code",
   "execution_count": 7,
   "metadata": {},
   "outputs": [],
   "source": [
    "X = data['dev']['X']\n",
    "gold_sums = data['dev']['gold']\n",
    "recovered_X = [tokenizer.convert_ids_to_tokens(x) for x in X]"
   ]
  },
  {
   "cell_type": "code",
   "execution_count": 39,
   "metadata": {},
   "outputs": [],
   "source": [
    "threshold = -2.5"
   ]
  },
  {
   "cell_type": "code",
   "execution_count": 40,
   "metadata": {},
   "outputs": [
    {
     "name": "stderr",
     "output_type": "stream",
     "text": [
      "100%|██████████| 15603/15603 [00:01<00:00, 10939.28it/s]\n"
     ]
    }
   ],
   "source": [
    "all_preds = []\n",
    "with tqdm(total=sum(X.size(0) for X in X_batch)) as progress_bar:\n",
    "    for X, logits in zip(X_batch, logits_batch):\n",
    "        preds = util.tag_to_sents(X, logits, threshold=threshold, topk=0, max_len=120)\n",
    "        all_preds.extend(preds)\n",
    "        progress_bar.update(X.size(0))"
   ]
  },
  {
   "cell_type": "code",
   "execution_count": 41,
   "metadata": {},
   "outputs": [
    {
     "data": {
      "text/plain": [
       "541.2703967185797"
      ]
     },
     "execution_count": 41,
     "metadata": {},
     "output_type": "execute_result"
    }
   ],
   "source": [
    "np.mean([len(sent) for sent in all_preds])"
   ]
  },
  {
   "cell_type": "code",
   "execution_count": 42,
   "metadata": {},
   "outputs": [
    {
     "data": {
      "text/plain": [
       "296.77952957764535"
      ]
     },
     "execution_count": 42,
     "metadata": {},
     "output_type": "execute_result"
    }
   ],
   "source": [
    "np.mean([len(sent) for sent in gold_sums])"
   ]
  },
  {
   "cell_type": "code",
   "execution_count": 43,
   "metadata": {},
   "outputs": [],
   "source": [
    "# valid_ids = [i for i in range(len(all_preds)) \\\n",
    "#         if len(all_preds[i]) > 0 and all_preds[i][0] != '.']\n",
    "# pred = [all_preds[i] for i in valid_ids]\n",
    "# ref = [gold_sums[i] for i in valid_ids]\n",
    "# rouge = Rouge()\n",
    "# results = rouge.get_scores(pred, ref, avg=True)"
   ]
  },
  {
   "cell_type": "code",
   "execution_count": 44,
   "metadata": {
    "scrolled": false
   },
   "outputs": [],
   "source": [
    "# results"
   ]
  },
  {
   "cell_type": "code",
   "execution_count": 45,
   "metadata": {
    "scrolled": true
   },
   "outputs": [
    {
     "data": {
      "text/plain": [
       "\"a kansas jury deliberate 37 minutes before convicting an anti - abortion activist of first - degree murder in the shooting of an abortion provider . the jury found scott roeder , 51 , guilty of gunning down dr . george tiller , who operated a clinic in wichita where late - term abortions were performed . roeder , 51 , faces life in prison when he is sentenced on march 9 . tiller ' s family said the jury reached a ` ` just ' ' verdict . ` ` for his a ' ' family . arors he had shot tiller in\""
      ]
     },
     "execution_count": 45,
     "metadata": {},
     "output_type": "execute_result"
    }
   ],
   "source": [
    "all_preds[79]"
   ]
  },
  {
   "cell_type": "code",
   "execution_count": 46,
   "metadata": {},
   "outputs": [
    {
     "data": {
      "text/plain": [
       "\"scott roeder convicted of first - degree murder . jury reaches verdict after about 40 minutes of deliberation . roeder testified he does not regret killing dr . george tiller . tiller ran a women ' s clinic where he performed abortions in wichita , kansas .\""
      ]
     },
     "execution_count": 46,
     "metadata": {},
     "output_type": "execute_result"
    }
   ],
   "source": [
    "gold_sums[79]"
   ]
  },
  {
   "cell_type": "code",
   "execution_count": 48,
   "metadata": {},
   "outputs": [
    {
     "data": {
      "text/plain": [
       "\"- lrb - cnn - rrb - - - a kansas jury deliberated just 37 minutes before convicting an anti - abortion activist of first - degree murder in the fatal shooting of an abortion provider . the jury found scott roeder , 51 , guilty of gunning down dr . george tiller , who operated a clinic in wichita where late - term abortions were performed . roeder , 51 , faces life in prison when he is sentenced on march 9 . tiller ' s family said the jury reached a ` ` just ' ' verdict . ` ` at this time we hope that george can be remembered for his legacy of service to women , the help he provided for those who needed it and the love and happiness he provided us as a husband , father and grandfather , ' ' the family said in a written statement . a day earlier , roeder told jurors he had shot tiller in the foyer of reformation lutheran church as sunday services began . testifying as his only defense witness , he said he believed he had to kill tiller to save lives . he said he had no regrets . ` ` there was nothing being done , and the legal process had been exhausted , and these babies were dying every day , ' ' roeder said . ` ` i felt that if someone did not do something , he was going to continue . ' ' . ` ` his testimony was delivered very matter - of - factly , but its contents were chillingly horrific , ' ' prosecutor ann swengel said in her closing argument . ` ` he carried out a planned assassination , and there can be no other verdict in this case . . . other than guilty . ' ' . quick verdict surprised prosecutor . prosecutors initially fought to keep abortion out of the trial , claiming that tiller ' s death was a straightforward case of premeditated murder . eventually , the abortion issue took center stage as prosecutors portrayed tiller as a target of roeder ' s anti - abortion agenda , and defense lawyers attempted to mitigate his culpability under the theory that he believed tiller ' s death was justified to save the lives of others . defense attorney mark rudy told jurors in his closing argument that roeder ` ` thought that the babies kept on dying ' ' and he had to stop tiller from ` ` killing more babies . ' ' . another defense attorney , steve osburn , said roeder was ` ` disappointed , ' ' with the verdict . but\""
      ]
     },
     "execution_count": 48,
     "metadata": {},
     "output_type": "execute_result"
    }
   ],
   "source": [
    "util.remove_bert_tokens(' '.join(recovered_X[79]))"
   ]
  },
  {
   "cell_type": "code",
   "execution_count": 30,
   "metadata": {},
   "outputs": [],
   "source": [
    "threshold = -2.0"
   ]
  },
  {
   "cell_type": "code",
   "execution_count": 31,
   "metadata": {},
   "outputs": [
    {
     "name": "stderr",
     "output_type": "stream",
     "text": [
      "100%|██████████| 15603/15603 [00:01<00:00, 12702.92it/s]\n"
     ]
    }
   ],
   "source": [
    "all_preds = []\n",
    "with tqdm(total=sum(X.size(0) for X in X_batch)) as progress_bar:\n",
    "    for X, logits in zip(X_batch, logits_batch):\n",
    "        preds = util.tag_to_sents(X, logits, threshold=threshold, topk=0)\n",
    "        all_preds.extend(preds)\n",
    "        progress_bar.update(X.size(0))"
   ]
  },
  {
   "cell_type": "code",
   "execution_count": 32,
   "metadata": {},
   "outputs": [
    {
     "data": {
      "text/plain": [
       "466.65192591168363"
      ]
     },
     "execution_count": 32,
     "metadata": {},
     "output_type": "execute_result"
    }
   ],
   "source": [
    "np.mean([len(sent) for sent in all_preds])"
   ]
  },
  {
   "cell_type": "code",
   "execution_count": 33,
   "metadata": {},
   "outputs": [
    {
     "data": {
      "text/plain": [
       "296.77952957764535"
      ]
     },
     "execution_count": 33,
     "metadata": {},
     "output_type": "execute_result"
    }
   ],
   "source": [
    "np.mean([len(sent) for sent in gold_sums])"
   ]
  },
  {
   "cell_type": "code",
   "execution_count": 34,
   "metadata": {},
   "outputs": [],
   "source": [
    "valid_ids = [i for i in range(len(all_preds)) \\\n",
    "        if len(all_preds[i]) > 0 and all_preds[i][0] != '.']\n",
    "pred = [all_preds[i] for i in valid_ids]\n",
    "ref = [gold_sums[i] for i in valid_ids]\n",
    "rouge = Rouge()\n",
    "results = rouge.get_scores(pred, ref, avg=True)"
   ]
  },
  {
   "cell_type": "code",
   "execution_count": 35,
   "metadata": {
    "scrolled": true
   },
   "outputs": [
    {
     "data": {
      "text/plain": [
       "{'rouge-1': {'f': 0.4496899122869815,\n",
       "  'p': 0.40063215739225777,\n",
       "  'r': 0.53974616094343},\n",
       " 'rouge-2': {'f': 0.18567803647011386,\n",
       "  'p': 0.1559749627169229,\n",
       "  'r': 0.24639956474697608},\n",
       " 'rouge-l': {'f': 0.39346003244870503,\n",
       "  'p': 0.3737589285073313,\n",
       "  'r': 0.5040702011647212}}"
      ]
     },
     "execution_count": 35,
     "metadata": {},
     "output_type": "execute_result"
    }
   ],
   "source": [
    "results"
   ]
  },
  {
   "cell_type": "code",
   "execution_count": 58,
   "metadata": {},
   "outputs": [],
   "source": [
    "threshold = -1.7"
   ]
  },
  {
   "cell_type": "code",
   "execution_count": 59,
   "metadata": {},
   "outputs": [
    {
     "name": "stderr",
     "output_type": "stream",
     "text": [
      "100%|██████████| 15603/15603 [00:01<00:00, 13316.56it/s]\n"
     ]
    }
   ],
   "source": [
    "all_preds = []\n",
    "with tqdm(total=sum(X.size(0) for X in X_batch)) as progress_bar:\n",
    "    for X, logits in zip(X_batch, logits_batch):\n",
    "        preds = util.tag_to_sents(X, logits, threshold=threshold, topk=0)\n",
    "        all_preds.extend(preds)\n",
    "        progress_bar.update(X.size(0))"
   ]
  },
  {
   "cell_type": "code",
   "execution_count": 60,
   "metadata": {},
   "outputs": [
    {
     "data": {
      "text/plain": [
       "427.02268794462606"
      ]
     },
     "execution_count": 60,
     "metadata": {},
     "output_type": "execute_result"
    }
   ],
   "source": [
    "np.mean([len(sent) for sent in all_preds])"
   ]
  },
  {
   "cell_type": "code",
   "execution_count": 61,
   "metadata": {},
   "outputs": [
    {
     "data": {
      "text/plain": [
       "296.77952957764535"
      ]
     },
     "execution_count": 61,
     "metadata": {},
     "output_type": "execute_result"
    }
   ],
   "source": [
    "np.mean([len(sent) for sent in gold_sums])"
   ]
  },
  {
   "cell_type": "code",
   "execution_count": 62,
   "metadata": {},
   "outputs": [],
   "source": [
    "valid_ids = [i for i in range(len(all_preds)) \\\n",
    "        if len(all_preds[i]) > 0 and all_preds[i][0] != '.']\n",
    "pred = [all_preds[i] for i in valid_ids]\n",
    "ref = [gold_sums[i] for i in valid_ids]\n",
    "rouge = Rouge()\n",
    "results = rouge.get_scores(pred, ref, avg=True)"
   ]
  },
  {
   "cell_type": "code",
   "execution_count": 63,
   "metadata": {
    "scrolled": true
   },
   "outputs": [
    {
     "data": {
      "text/plain": [
       "{'rouge-1': {'f': 0.45086845580397156,\n",
       "  'p': 0.4185434317870088,\n",
       "  'r': 0.5168249621833642},\n",
       " 'rouge-2': {'f': 0.1829220373807808,\n",
       "  'p': 0.15901565244835605,\n",
       "  'r': 0.23124963445101152},\n",
       " 'rouge-l': {'f': 0.3999566875681731,\n",
       "  'p': 0.39202406330937495,\n",
       "  'r': 0.4843581547513276}}"
      ]
     },
     "execution_count": 63,
     "metadata": {},
     "output_type": "execute_result"
    }
   ],
   "source": [
    "results"
   ]
  },
  {
   "cell_type": "code",
   "execution_count": 42,
   "metadata": {},
   "outputs": [],
   "source": [
    "threshold = -1.6"
   ]
  },
  {
   "cell_type": "code",
   "execution_count": 43,
   "metadata": {},
   "outputs": [
    {
     "name": "stderr",
     "output_type": "stream",
     "text": [
      "100%|██████████| 15603/15603 [00:01<00:00, 14216.06it/s]\n"
     ]
    }
   ],
   "source": [
    "all_preds = []\n",
    "with tqdm(total=sum(X.size(0) for X in X_batch)) as progress_bar:\n",
    "    for X, logits in zip(X_batch, logits_batch):\n",
    "        preds = util.tag_to_sents(X, logits, threshold=threshold, topk=0)\n",
    "        all_preds.extend(preds)\n",
    "        progress_bar.update(X.size(0))"
   ]
  },
  {
   "cell_type": "code",
   "execution_count": 44,
   "metadata": {},
   "outputs": [
    {
     "data": {
      "text/plain": [
       "363.1303595462411"
      ]
     },
     "execution_count": 44,
     "metadata": {},
     "output_type": "execute_result"
    }
   ],
   "source": [
    "np.mean([len(sent) for sent in all_preds])"
   ]
  },
  {
   "cell_type": "code",
   "execution_count": 45,
   "metadata": {},
   "outputs": [
    {
     "data": {
      "text/plain": [
       "296.77952957764535"
      ]
     },
     "execution_count": 45,
     "metadata": {},
     "output_type": "execute_result"
    }
   ],
   "source": [
    "np.mean([len(sent) for sent in gold_sums])"
   ]
  },
  {
   "cell_type": "code",
   "execution_count": 46,
   "metadata": {},
   "outputs": [],
   "source": [
    "valid_ids = [i for i in range(len(all_preds)) \\\n",
    "        if len(all_preds[i]) > 0 and all_preds[i][0] != '.']\n",
    "pred = [all_preds[i] for i in valid_ids]\n",
    "ref = [gold_sums[i] for i in valid_ids]\n",
    "rouge = Rouge()\n",
    "results = rouge.get_scores(pred, ref, avg=True)"
   ]
  },
  {
   "cell_type": "code",
   "execution_count": 47,
   "metadata": {
    "scrolled": true
   },
   "outputs": [
    {
     "data": {
      "text/plain": [
       "{'rouge-1': {'f': 0.44244367142312696,\n",
       "  'p': 0.44210512732771956,\n",
       "  'r': 0.47261537854014235},\n",
       " 'rouge-2': {'f': 0.17633962658940505,\n",
       "  'p': 0.16432195309989306,\n",
       "  'r': 0.2057540133100572},\n",
       " 'rouge-l': {'f': 0.39573376477645517,\n",
       "  'p': 0.4153099454535798,\n",
       "  'r': 0.44399267718797564}}"
      ]
     },
     "execution_count": 47,
     "metadata": {},
     "output_type": "execute_result"
    }
   ],
   "source": [
    "results"
   ]
  },
  {
   "cell_type": "code",
   "execution_count": 48,
   "metadata": {},
   "outputs": [
    {
     "data": {
      "text/plain": [
       "\"the obama administration launch the federal healthcare site was not ready to go live confidential report cnn . . the caution main contractor cgi warned of a of open risks and issues for healthcare . gov web site project . medicaid chief marilyn tavenner it website she not fore problems . ` ` tested website with ' . in ' ' . ' s . risks open says . is . c .\""
      ]
     },
     "execution_count": 48,
     "metadata": {},
     "output_type": "execute_result"
    }
   ],
   "source": [
    "pred[4]"
   ]
  },
  {
   "cell_type": "code",
   "execution_count": 49,
   "metadata": {},
   "outputs": [
    {
     "data": {
      "text/plain": [
       "\"a confidential report obtained by cnn details warning that site was n ' t ready to go live . the main contractor warned of a number of open risks and issues for healthcare . gov . agency overseeing website said it addressed problems , was told project on track .\""
      ]
     },
     "execution_count": 49,
     "metadata": {},
     "output_type": "execute_result"
    }
   ],
   "source": [
    "ref[4]"
   ]
  },
  {
   "cell_type": "code",
   "execution_count": 387,
   "metadata": {},
   "outputs": [],
   "source": [
    "threshold = 0.5"
   ]
  },
  {
   "cell_type": "code",
   "execution_count": 388,
   "metadata": {},
   "outputs": [
    {
     "name": "stderr",
     "output_type": "stream",
     "text": [
      "100%|██████████| 15603/15603 [00:00<00:00, 33320.87it/s]\n"
     ]
    }
   ],
   "source": [
    "all_preds = []\n",
    "with tqdm(total=sum(X.size(0) for X in X_batch)) as progress_bar:\n",
    "    for X, logits in zip(X_batch, logits_batch):\n",
    "        preds = util.tag_to_sents(X, logits, threshold=threshold, topk=0)\n",
    "        all_preds.extend(preds)\n",
    "        progress_bar.update(X.size(0))"
   ]
  },
  {
   "cell_type": "code",
   "execution_count": 389,
   "metadata": {},
   "outputs": [
    {
     "data": {
      "text/plain": [
       "11.073383323719797"
      ]
     },
     "execution_count": 389,
     "metadata": {},
     "output_type": "execute_result"
    }
   ],
   "source": [
    "np.mean([len(sent) for sent in all_preds])"
   ]
  },
  {
   "cell_type": "code",
   "execution_count": 390,
   "metadata": {},
   "outputs": [
    {
     "data": {
      "text/plain": [
       "296.77952957764535"
      ]
     },
     "execution_count": 390,
     "metadata": {},
     "output_type": "execute_result"
    }
   ],
   "source": [
    "np.mean([len(sent) for sent in gold_sums])"
   ]
  },
  {
   "cell_type": "code",
   "execution_count": 475,
   "metadata": {},
   "outputs": [],
   "source": [
    "choice = 21"
   ]
  },
  {
   "cell_type": "code",
   "execution_count": 476,
   "metadata": {},
   "outputs": [],
   "source": [
    "# choice = 107"
   ]
  },
  {
   "cell_type": "code",
   "execution_count": 477,
   "metadata": {},
   "outputs": [
    {
     "data": {
      "text/plain": [
       "'drought iguanas . low rainfall in unusually hot season has led to series of droughts in parts of el salvador , guatemala , honduras and nicaragua crops food prices . government expert in nicaragua has recommended keeping and eating iguanas as a way of providing food . worst draught in 32 years threatens to cause food crisis expert nicaragua people keeping eating iguanas . lizards 24 more protein chicken . huntinggua is food . iguana meat . . crops destroyed by poor rainfall .'"
      ]
     },
     "execution_count": 477,
     "metadata": {},
     "output_type": "execute_result"
    }
   ],
   "source": [
    "all_preds[choice]"
   ]
  },
  {
   "cell_type": "code",
   "execution_count": 479,
   "metadata": {
    "scrolled": true
   },
   "outputs": [
    {
     "data": {
      "text/plain": [
       "'low rainfall and hot weather has led to series of droughts across region . government expert in nicaragua has advised keeping and eating iguanas . he said the lizard could not only provide food but could also provide income .'"
      ]
     },
     "execution_count": 479,
     "metadata": {},
     "output_type": "execute_result"
    }
   ],
   "source": [
    "gold_sums[choice]"
   ]
  },
  {
   "cell_type": "code",
   "execution_count": 407,
   "metadata": {},
   "outputs": [],
   "source": [
    "threshold = -1.7"
   ]
  },
  {
   "cell_type": "code",
   "execution_count": 408,
   "metadata": {},
   "outputs": [
    {
     "name": "stderr",
     "output_type": "stream",
     "text": [
      "100%|██████████| 15603/15603 [00:01<00:00, 11628.58it/s]\n"
     ]
    }
   ],
   "source": [
    "all_preds = []\n",
    "with tqdm(total=sum(X.size(0) for X in X_batch)) as progress_bar:\n",
    "    for X, logits in zip(X_batch, logits_batch):\n",
    "        preds = util.tag_to_sents(X, logits, threshold=threshold, topk=0, max_len=500)\n",
    "        all_preds.extend(preds)\n",
    "        progress_bar.update(X.size(0))"
   ]
  },
  {
   "cell_type": "code",
   "execution_count": 384,
   "metadata": {},
   "outputs": [
    {
     "data": {
      "text/plain": [
       "504.03057104403"
      ]
     },
     "execution_count": 384,
     "metadata": {},
     "output_type": "execute_result"
    }
   ],
   "source": [
    "np.mean([len(sent) for sent in all_preds])"
   ]
  },
  {
   "cell_type": "code",
   "execution_count": 385,
   "metadata": {},
   "outputs": [
    {
     "data": {
      "text/plain": [
       "296.77952957764535"
      ]
     },
     "execution_count": 385,
     "metadata": {},
     "output_type": "execute_result"
    }
   ],
   "source": [
    "np.mean([len(sent) for sent in gold_sums])"
   ]
  },
  {
   "cell_type": "code",
   "execution_count": 386,
   "metadata": {
    "scrolled": true
   },
   "outputs": [
    {
     "data": {
      "text/plain": [
       "\"the . but sims devices . a cambridge computer science experts believes the small microchips ' days are and should be phones in the online accounts . dr markus kuhn from the university of cambridge said the sim could have been replaced long ago . he believes alternatives include typing in a user identifier and password directly into a phone . sim could with id and password into the phone is to access wifi of cambridge . or qr codes 3d are more alternative for smartphones with cameras app can . the to . . ' believes sims with passwords software it . they .\""
      ]
     },
     "execution_count": 386,
     "metadata": {},
     "output_type": "execute_result"
    }
   ],
   "source": [
    "all_preds[choice]"
   ]
  },
  {
   "cell_type": "code",
   "execution_count": 331,
   "metadata": {},
   "outputs": [
    {
     "data": {
      "text/plain": [
       "'dr markus kuhn said the sim could have been replaced a long time ago . he believes one alternative could be typing in a user identifier and password directly into a phone - like we do with wi - fi networks . or details could be encoded in qr codes photographed by a phone camera . the university of cambridge lecturer also believes the time is right to switch because of recent advances in cryptographic techniques .'"
      ]
     },
     "execution_count": 331,
     "metadata": {},
     "output_type": "execute_result"
    }
   ],
   "source": [
    "gold_sums[choice]"
   ]
  },
  {
   "cell_type": "code",
   "execution_count": 478,
   "metadata": {
    "scrolled": false
   },
   "outputs": [
    {
     "data": {
      "text/plain": [
       "\"by . james rush for mailonline . as the worst drought in 32 years threatens to cause a food crisis across central america , people living in nicaragua have been advised to consider farming and eating iguanas . low rainfall in an unusually hot season has led to a series of droughts in parts of el salvador , guatemala , honduras and nicaragua , damaging crops and pushing up food prices . now , a government expert in nicaragua has recommended keeping and eating iguanas as a way of providing food , as well as an income . as the worst draught in 32 years threatens to cause a food crisis across central america , a government expert in nicaragua has recommended people keeping and eating iguanas . land management expert guillermo membreno told state - run online newspaper la voz del sandinismo , as translated by the guardian : ` breeding iguanas brings two benefits . not only does it supply dietary protein , it also offers a commercial use for the animals . ' he said the tropical lizards contained 24 per cent more protein than chicken and could also be sold for their meat , skin or as pets . while hunting iguanas is outlawed by the country ' s environmental laws from january to the end of april , they are allowed to be kept as food . iguana meat has been described as similar to chicken , but sweeter , and is most often used in stews , tacos and roasts . the suggestions made by the government expert however have reportedly been mocked by some nicaraguans . the advice comes after bean and maize crops have been destroyed by the poor rainfall and hot weather , linked to the el nino weather phenomenon . a boy holds up an iguana for sale on the highway in the north of managua , nicaragua , in may . he is selling the iguana for 300 cordobas - lrb - $ 12 - rrb - . in a recent report , the famine early warning systems network , run by the u . s . agency for international development , said : ` extremely poor households across large areas of guatemala , nicaragua , honduras , and el salvador will experience a rapid deterioration in their food security in early 2015 . ` atypically high levels of humanitarian assistance , possibly the highest since hurricane mitch in 1998 , will likely be required in order to avoid a food crisis . ' according to the thomson reuters foundation , thousands of families are no longer able to buy enough food to survive . while . hunting iguanas is outlawed by\""
      ]
     },
     "execution_count": 478,
     "metadata": {},
     "output_type": "execute_result"
    }
   ],
   "source": [
    "util.remove_bert_tokens(' '.join(recovered_X[choice]))"
   ]
  },
  {
   "cell_type": "markdown",
   "metadata": {},
   "source": [
    "Insights:\n",
    "\n",
    "1. Lower threshold results in longer sentences, and will trivially improve ROUGE scores. Thus we pick a threshold that match the predicted average length of the summaries with true average length of the summaries. "
   ]
  },
  {
   "cell_type": "markdown",
   "metadata": {},
   "source": [
    "### Threshold plots\n",
    "\n",
    "Simple thresholds is not gonna cut it. Must use plots"
   ]
  },
  {
   "cell_type": "code",
   "execution_count": 25,
   "metadata": {},
   "outputs": [],
   "source": [
    "def evaluate_threshold(threshold):\n",
    "    all_preds = []\n",
    "    for X, logits in zip(X_batch, logits_batch):\n",
    "        preds = util.tag_to_sents(X, logits, threshold=threshold, topk=0, max_len=120)\n",
    "        all_preds.extend(preds)\n",
    "    valid_ids = [i for i in range(len(all_preds)) \\\n",
    "            if len(all_preds[i]) > 3]\n",
    "    pred = [all_preds[i] for i in valid_ids]\n",
    "    ref = [gold_sums[i] for i in valid_ids]\n",
    "    rouge = Rouge()\n",
    "    results = rouge.get_scores(pred, ref, avg=True)\n",
    "    results['avg_len'] = np.mean([len(sent) for sent in pred])\n",
    "    return (threshold, results)"
   ]
  },
  {
   "cell_type": "code",
   "execution_count": 256,
   "metadata": {},
   "outputs": [],
   "source": [
    "pool = Pool(7)"
   ]
  },
  {
   "cell_type": "code",
   "execution_count": 7,
   "metadata": {},
   "outputs": [],
   "source": [
    "search_range = np.linspace(-2.5, 1, 50)"
   ]
  },
  {
   "cell_type": "code",
   "execution_count": 258,
   "metadata": {
    "collapsed": true
   },
   "outputs": [],
   "source": [
    "result = pool.map(evaluate_threshold, search_range)"
   ]
  },
  {
   "cell_type": "code",
   "execution_count": 260,
   "metadata": {},
   "outputs": [],
   "source": [
    "with open(os.path.join('saved_models', machine, 'test', 'default-01-dev', 'threshold_eval.pk'), 'wb') as f:\n",
    "    pickle.dump(result, f)"
   ]
  },
  {
   "cell_type": "code",
   "execution_count": 5,
   "metadata": {},
   "outputs": [],
   "source": [
    "with open(os.path.join('saved_models', machine, 'test', 'default-01-dev', 'threshold_eval.pk'), 'rb') as f:\n",
    "    result = pickle.load(f)"
   ]
  },
  {
   "cell_type": "code",
   "execution_count": 26,
   "metadata": {},
   "outputs": [],
   "source": [
    "result_merged = {list(elem.keys())[0]: list(elem.values())[0] for elem in result}"
   ]
  },
  {
   "cell_type": "code",
   "execution_count": 28,
   "metadata": {},
   "outputs": [],
   "source": [
    "rouge1_p = np.array([result_merged[i]['rouge-1']['p'] for i in search_range])\n",
    "rouge1_r = np.array([result_merged[i]['rouge-1']['r'] for i in search_range])\n",
    "rouge1_f = np.array([result_merged[i]['rouge-1']['f'] for i in search_range])\n",
    "\n",
    "rouge2_p = np.array([result_merged[i]['rouge-2']['p'] for i in search_range])\n",
    "rouge2_r = np.array([result_merged[i]['rouge-2']['r'] for i in search_range])\n",
    "rouge2_f = np.array([result_merged[i]['rouge-2']['f'] for i in search_range])\n",
    "\n",
    "rougeL_p = np.array([result_merged[i]['rouge-l']['p'] for i in search_range])\n",
    "rougeL_r = np.array([result_merged[i]['rouge-l']['r'] for i in search_range])\n",
    "rougeL_f = np.array([result_merged[i]['rouge-l']['f'] for i in search_range])"
   ]
  },
  {
   "cell_type": "code",
   "execution_count": 75,
   "metadata": {},
   "outputs": [
    {
     "data": {
      "image/png": "[encoded data removed]",
      "text/plain": [
       "<Figure size 432x432 with 1 Axes>"
      ]
     },
     "metadata": {
      "needs_background": "light"
     },
     "output_type": "display_data"
    }
   ],
   "source": [
    "plt.figure(figsize=(6, 6))\n",
    "plt.plot(search_range, rouge1_p)\n",
    "plt.plot(search_range, rouge1_r)\n",
    "plt.plot(search_range, rouge1_f)\n",
    "plt.axvline(x=-1.7, color='black', ls=':')\n",
    "plt.legend(['precision', 'recall', 'F-1'], loc='upper right')\n",
    "plt.xlabel('Threshold')\n",
    "plt.ylabel('Rouge-1 scores')\n",
    "plt.title('Rouge-1 Scores by threshold')\n",
    "plt.savefig(os.path.join('paper', 'plots', 'rouge-1.png'))"
   ]
  },
  {
   "cell_type": "code",
   "execution_count": 59,
   "metadata": {},
   "outputs": [
    {
     "data": {
      "image/png": "[encoded data removed]",
      "text/plain": [
       "<Figure size 432x432 with 1 Axes>"
      ]
     },
     "metadata": {
      "needs_background": "light"
     },
     "output_type": "display_data"
    }
   ],
   "source": [
    "plt.figure(figsize=(6, 6))\n",
    "plt.plot(search_range, rouge2_p)\n",
    "plt.plot(search_range, rouge2_r)\n",
    "plt.plot(search_range, rouge2_f)\n",
    "plt.axvline(x=-1.95, color='black', ls=':')\n",
    "plt.legend(['precision', 'recall', 'F-1'], loc='upper right')\n",
    "plt.xlabel('Threshold')\n",
    "plt.ylabel('Rouge-2 scores')\n",
    "plt.title('Rouge-2 Scores by threshold')\n",
    "plt.savefig(os.path.join('paper', 'plots', 'rouge-2.png'))"
   ]
  },
  {
   "cell_type": "code",
   "execution_count": 71,
   "metadata": {},
   "outputs": [
    {
     "data": {
      "image/png": "[encoded data removed]",
      "text/plain": [
       "<Figure size 432x432 with 1 Axes>"
      ]
     },
     "metadata": {
      "needs_background": "light"
     },
     "output_type": "display_data"
    }
   ],
   "source": [
    "plt.figure(figsize=(6, 6))\n",
    "plt.plot(search_range, rougeL_p)\n",
    "plt.plot(search_range, rougeL_r)\n",
    "plt.plot(search_range, rougeL_f)\n",
    "plt.axvline(x=-1.65, color='black', ls=':')\n",
    "plt.legend(['precision', 'recall', 'F-1'], loc='upper right')\n",
    "plt.xlabel('Threshold')\n",
    "plt.ylabel('Rouge-L scores')\n",
    "plt.title('Rouge-L Scores by threshold')\n",
    "plt.savefig(os.path.join('paper', 'plots', 'rouge-L.png'))"
   ]
  },
  {
   "cell_type": "markdown",
   "metadata": {},
   "source": [
    "## Test!\n",
    "\n",
    "After finding the best threshold, we use it on our test set"
   ]
  },
  {
   "cell_type": "code",
   "execution_count": 64,
   "metadata": {},
   "outputs": [],
   "source": [
    "machine = 'Google'"
   ]
  },
  {
   "cell_type": "code",
   "execution_count": 65,
   "metadata": {},
   "outputs": [],
   "source": [
    "with open(os.path.join('saved_models', machine, 'test', 'default-02', 'X_batch.pk'), 'rb') as f:\n",
    "    X_batch = pickle.load(f)\n",
    "with open(os.path.join('saved_models', machine, 'test', 'default-02', 'logits_batch.pk'), 'rb') as f:\n",
    "    logits_batch = pickle.load(f)\n",
    "with open(os.path.join('saved_models', machine, 'test', 'default-02', 'gold_sums.pk'), 'rb') as f:\n",
    "    gold_sums = pickle.load(f)\n",
    "PROCESSED_DATA = os.path.join('data', 'data.pk')\n",
    "with open(PROCESSED_DATA, 'rb') as f:\n",
    "    data = pickle.load(f)"
   ]
  },
  {
   "cell_type": "code",
   "execution_count": 66,
   "metadata": {},
   "outputs": [
    {
     "name": "stderr",
     "output_type": "stream",
     "text": [
      "100%|██████████| 15603/15603 [00:01<00:00, 12974.42it/s]\n"
     ]
    },
    {
     "name": "stdout",
     "output_type": "stream",
     "text": [
      "predicted summary mean length: 424.8680381977825\n",
      "gold summary mean length: 296.30468499647503\n",
      "{'rouge-1': {'f': 0.4491941871098484, 'p': 0.41709269253658604, 'r': 0.5149598947741703}, 'rouge-2': {'f': 0.18215143343088216, 'p': 0.1582838456230488, 'r': 0.23063813984371204}, 'rouge-l': {'f': 0.39814281109452004, 'p': 0.390356131165759, 'r': 0.48219031239701976}}\n"
     ]
    }
   ],
   "source": [
    "threshold = -1.8\n",
    "all_preds = []\n",
    "with tqdm(total=sum(X.size(0) for X in X_batch)) as progress_bar:\n",
    "    for X, logits in zip(X_batch, logits_batch):\n",
    "        preds = util.tag_to_sents(X, logits, threshold=threshold, topk=0)\n",
    "        all_preds.extend(preds)\n",
    "        progress_bar.update(X.size(0))\n",
    "print(\"predicted summary mean length: {}\".format(np.mean([len(sent) for sent in all_preds])))\n",
    "print(\"gold summary mean length: {}\".format(np.mean([len(sent) for sent in gold_sums])))\n",
    "valid_ids = [i for i in range(len(all_preds)) \\\n",
    "        if len(all_preds[i]) > 0 and all_preds[i][0] != '.']\n",
    "pred = [all_preds[i] for i in valid_ids]\n",
    "ref = [gold_sums[i] for i in valid_ids]\n",
    "rouge = Rouge()\n",
    "results = rouge.get_scores(pred, ref, avg=True)\n",
    "print(results)"
   ]
  },
  {
   "cell_type": "code",
   "execution_count": 67,
   "metadata": {},
   "outputs": [],
   "source": [
    "machine = 'Google'"
   ]
  },
  {
   "cell_type": "code",
   "execution_count": 71,
   "metadata": {},
   "outputs": [],
   "source": [
    "with open(os.path.join('saved_models', machine, 'test', 'default-02-test', 'X_batch.pk'), 'rb') as f:\n",
    "    X_batch = pickle.load(f)\n",
    "with open(os.path.join('saved_models', machine, 'test', 'default-02-test', 'logits_batch.pk'), 'rb') as f:\n",
    "    logits_batch = pickle.load(f)\n",
    "with open(os.path.join('saved_models', machine, 'test', 'default-02-test', 'gold_sums.pk'), 'rb') as f:\n",
    "    gold_sums = pickle.load(f)\n",
    "PROCESSED_DATA = os.path.join('data', 'data.pk')\n",
    "with open(PROCESSED_DATA, 'rb') as f:\n",
    "    data = pickle.load(f)"
   ]
  },
  {
   "cell_type": "code",
   "execution_count": 72,
   "metadata": {},
   "outputs": [
    {
     "name": "stderr",
     "output_type": "stream",
     "text": [
      "100%|██████████| 15603/15603 [00:01<00:00, 13453.85it/s]\n"
     ]
    },
    {
     "name": "stdout",
     "output_type": "stream",
     "text": [
      "predicted summary mean length: 417.5348971351663\n",
      "gold summary mean length: 296.30468499647503\n",
      "{'rouge-1': {'f': 0.4480336311767712, 'p': 0.41528993073096937, 'r': 0.5129980577739018}, 'rouge-2': {'f': 0.18570456548816291, 'p': 0.16359561178490742, 'r': 0.23016669270617462}, 'rouge-l': {'f': 0.3970638920445901, 'p': 0.3878898983176103, 'r': 0.4793561493933291}}\n"
     ]
    }
   ],
   "source": [
    "threshold = -1.7\n",
    "all_preds = []\n",
    "with tqdm(total=sum(X.size(0) for X in X_batch)) as progress_bar:\n",
    "    for X, logits in zip(X_batch, logits_batch):\n",
    "        preds = util.tag_to_sents(X, logits, threshold=threshold, topk=0)\n",
    "        all_preds.extend(preds)\n",
    "        progress_bar.update(X.size(0))\n",
    "print(\"predicted summary mean length: {}\".format(np.mean([len(sent) for sent in all_preds])))\n",
    "print(\"gold summary mean length: {}\".format(np.mean([len(sent) for sent in gold_sums])))\n",
    "valid_ids = [i for i in range(len(all_preds)) \\\n",
    "        if len(all_preds[i]) > 0 and all_preds[i][0] != '.']\n",
    "pred = [all_preds[i] for i in valid_ids]\n",
    "ref = [gold_sums[i] for i in valid_ids]\n",
    "rouge = Rouge()\n",
    "results = rouge.get_scores(pred, ref, avg=True)\n",
    "print(results)"
   ]
  },
  {
   "cell_type": "markdown",
   "metadata": {},
   "source": [
    "## Threshold as a detail extractor\n",
    "\n",
    "Varying thresholds can seen as be a way to achieve different level of abstraction. We also see a tradeoff between precision and recall, with higher thresholds increase precision while lower thresholds increase recall. It is not surprising since higher thresholds means a smaller predicted setence, and thus less tokens are being selected, but those who made it are much more likely to be in the target gold summary. Lower thresholds means a longer predicted sentence, and thus more tokens are selected, but it also tends to include non-essential words."
   ]
  },
  {
   "cell_type": "code",
   "execution_count": null,
   "metadata": {},
   "outputs": [],
   "source": [
    "threshold = -0.5 # works pretty well in keyword/headline generation\n",
    "threshold = -1.7 # maximizes f-1 score"
   ]
  }
 ],
 "metadata": {
  "kernelspec": {
   "display_name": "Python 3",
   "language": "python",
   "name": "python3"
  },
  "language_info": {
   "codemirror_mode": {
    "name": "ipython",
    "version": 3
   },
   "file_extension": ".py",
   "mimetype": "text/x-python",
   "name": "python",
   "nbconvert_exporter": "python",
   "pygments_lexer": "ipython3",
   "version": "3.6.8"
  }
 },
 "nbformat": 4,
 "nbformat_minor": 2
}
